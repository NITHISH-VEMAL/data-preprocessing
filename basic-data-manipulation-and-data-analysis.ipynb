{
 "cells": [
  {
   "cell_type": "markdown",
   "metadata": {
    "_uuid": "3735402ce55d4e798417b9bd1419c999651a63a3"
   },
   "source": [
    "![](http://static-news.moneycontrol.com/static-mcnews/2017/04/shutterstock_489439225-770x433.jpg)"
   ]
  },
  {
   "cell_type": "markdown",
   "metadata": {
    "_uuid": "72988279a5332cd1f40b159861e0ac5d8d5a14f3"
   },
   "source": [
    "**BASICS**"
   ]
  },
  {
   "cell_type": "markdown",
   "metadata": {
    "_uuid": "eb039ba0bc7fcdf22312e510caa6453559c81618"
   },
   "source": [
    "*Done by* \n",
    ">*PRADIP*   \n",
    ">*GIRIRAM*   \n",
    ">*KALYAN*   \n",
    ">*NITHISH*"
   ]
  },
  {
   "cell_type": "markdown",
   "metadata": {
    "_uuid": "0df165ac7091bc80419a43d9586bd91229fb3785"
   },
   "source": [
    "**DATA MANIPULATION**\n",
    "\n",
    "*1. IMPORT NUMPY AND PANDAS*\n",
    "> *1. 1 ASSIGNING DATASETS TO FD*\n",
    "> > *1. 1. 1 DISPLAY FIRST 5 OF THE ENTIRE DATASET*\n",
    "\n",
    "*2. TO VIEW EACH COLUMN NAME*\n",
    "> *2. 1 DELETE A SPECIFIC COLUMN*\n",
    "\n",
    "*3. TO FIND TOTAL NUMBER OF ROWS*\n",
    "\n",
    "*4. FETCH UNIQUE VALUES*\n",
    "> *4. 1*\n",
    "\n",
    "> *4. 2 DATASTRUCTURE IN PYTHON*\n",
    "\n",
    "*5. TO DISPLAY DATASET WITH SPECIFIC CONSTRAINTS*\n",
    "\n",
    "*6. CONVERT STRING TO FLOAT*\n",
    "\n",
    "*7. TO CACULATE MAX VALUE AND PRINT THE ROW WHICH HAS THE MAXIMUM VALUE*\n",
    "> *7.1 MINIMUM VALUE*\n",
    "\n",
    "**DATA VISUALIZATION**\n",
    "\n",
    "*SET 1 FOR VALUES CITYNAME.INDEX AND CITYNAME.VALUES*\n",
    "> *1. BAR GRAPH*\n",
    "> > *2. SCATTER PLOT*\n",
    "> > > *3. PIE CHART*\n",
    "\n",
    "*SET 2 FOR VALUES INVESTNAME.INDEX AND INVESTNAME.VALUES*\n",
    "> *1. BAR GRAPH*\n",
    "> > *2. SCATTER PLOT*\n",
    "> > > *3. PIE CHART*"
   ]
  },
  {
   "cell_type": "markdown",
   "metadata": {
    "_uuid": "dd5144a01cedd388bfacdc3b7a75c2852b9cc06b"
   },
   "source": [
    "![](http://assets.datacamp.com/production/tracks/14/badges/original/Data_Manipulation_10x.png?1506959694)"
   ]
  },
  {
   "cell_type": "markdown",
   "metadata": {
    "_uuid": "14fdce83ce68f621d48d5c485304818866a0dbd0"
   },
   "source": [
    "1. IMPORT NUMPY AND PANDAS"
   ]
  },
  {
   "cell_type": "code",
   "execution_count": 1,
   "metadata": {
    "_cell_guid": "b1076dfc-b9ad-4769-8c92-a6c4dae69d19",
    "_uuid": "8f2839f25d086af736a60e9eeb907d3b93b6e0e5"
   },
   "outputs": [],
   "source": [
    "import numpy as np\n",
    "\n",
    "#adds support for large, multi-dimensional arrays and matrices\n",
    "#along with a large collection of high-level mathematical functions to operate.\n",
    "\n",
    "\n",
    "import pandas as pd \n",
    "\n",
    "#high-performance,easy-to-use data structures"
   ]
  },
  {
   "cell_type": "markdown",
   "metadata": {
    "_uuid": "0def5af33892fbc764534c416e2249567ad97449"
   },
   "source": [
    "**1. 1 ASSIGNING DATASETS TO FD**\n",
    " \n",
    "*1. 1. 1 DISPLAY FIRST 5 OF THE ENTIRE DATASET*"
   ]
  },
  {
   "cell_type": "code",
   "execution_count": 2,
   "metadata": {
    "_cell_guid": "79c7e3d0-c299-4dcb-8224-4455121ee9b0",
    "_uuid": "d629ff2d2480ee46fbb7e2d37f6b5fab8052498a"
   },
   "outputs": [
    {
     "data": {
      "text/html": [
       "<div>\n",
       "<style scoped>\n",
       "    .dataframe tbody tr th:only-of-type {\n",
       "        vertical-align: middle;\n",
       "    }\n",
       "\n",
       "    .dataframe tbody tr th {\n",
       "        vertical-align: top;\n",
       "    }\n",
       "\n",
       "    .dataframe thead th {\n",
       "        text-align: right;\n",
       "    }\n",
       "</style>\n",
       "<table border=\"1\" class=\"dataframe\">\n",
       "  <thead>\n",
       "    <tr style=\"text-align: right;\">\n",
       "      <th></th>\n",
       "      <th>SNo</th>\n",
       "      <th>Date</th>\n",
       "      <th>StartupName</th>\n",
       "      <th>IndustryVertical</th>\n",
       "      <th>SubVertical</th>\n",
       "      <th>CityLocation</th>\n",
       "      <th>InvestorsName</th>\n",
       "      <th>InvestmentType</th>\n",
       "      <th>AmountInUSD</th>\n",
       "      <th>Remarks</th>\n",
       "    </tr>\n",
       "  </thead>\n",
       "  <tbody>\n",
       "    <tr>\n",
       "      <th>0</th>\n",
       "      <td>0</td>\n",
       "      <td>01/08/2017</td>\n",
       "      <td>TouchKin</td>\n",
       "      <td>Technology</td>\n",
       "      <td>Predictive Care Platform</td>\n",
       "      <td>Bangalore</td>\n",
       "      <td>Kae Capital</td>\n",
       "      <td>Private Equity</td>\n",
       "      <td>1,300,000</td>\n",
       "      <td>NaN</td>\n",
       "    </tr>\n",
       "    <tr>\n",
       "      <th>1</th>\n",
       "      <td>1</td>\n",
       "      <td>02/08/2017</td>\n",
       "      <td>Ethinos</td>\n",
       "      <td>Technology</td>\n",
       "      <td>Digital Marketing Agency</td>\n",
       "      <td>Mumbai</td>\n",
       "      <td>Triton Investment Advisors</td>\n",
       "      <td>Private Equity</td>\n",
       "      <td>NaN</td>\n",
       "      <td>NaN</td>\n",
       "    </tr>\n",
       "    <tr>\n",
       "      <th>2</th>\n",
       "      <td>2</td>\n",
       "      <td>02/08/2017</td>\n",
       "      <td>Leverage Edu</td>\n",
       "      <td>Consumer Internet</td>\n",
       "      <td>Online platform for Higher Education Services</td>\n",
       "      <td>New Delhi</td>\n",
       "      <td>Kashyap Deorah, Anand Sankeshwar, Deepak Jain,...</td>\n",
       "      <td>Seed Funding</td>\n",
       "      <td>NaN</td>\n",
       "      <td>NaN</td>\n",
       "    </tr>\n",
       "    <tr>\n",
       "      <th>3</th>\n",
       "      <td>3</td>\n",
       "      <td>02/08/2017</td>\n",
       "      <td>Zepo</td>\n",
       "      <td>Consumer Internet</td>\n",
       "      <td>DIY Ecommerce platform</td>\n",
       "      <td>Mumbai</td>\n",
       "      <td>Kunal Shah, LetsVenture, Anupam Mittal, Hetal ...</td>\n",
       "      <td>Seed Funding</td>\n",
       "      <td>500,000</td>\n",
       "      <td>NaN</td>\n",
       "    </tr>\n",
       "    <tr>\n",
       "      <th>4</th>\n",
       "      <td>4</td>\n",
       "      <td>02/08/2017</td>\n",
       "      <td>Click2Clinic</td>\n",
       "      <td>Consumer Internet</td>\n",
       "      <td>healthcare service aggregator</td>\n",
       "      <td>Hyderabad</td>\n",
       "      <td>Narottam Thudi, Shireesh Palle</td>\n",
       "      <td>Seed Funding</td>\n",
       "      <td>850,000</td>\n",
       "      <td>NaN</td>\n",
       "    </tr>\n",
       "  </tbody>\n",
       "</table>\n",
       "</div>"
      ],
      "text/plain": [
       "   SNo        Date   StartupName   ...    InvestmentType AmountInUSD Remarks\n",
       "0    0  01/08/2017      TouchKin   ...    Private Equity   1,300,000     NaN\n",
       "1    1  02/08/2017       Ethinos   ...    Private Equity         NaN     NaN\n",
       "2    2  02/08/2017  Leverage Edu   ...      Seed Funding         NaN     NaN\n",
       "3    3  02/08/2017          Zepo   ...      Seed Funding     500,000     NaN\n",
       "4    4  02/08/2017  Click2Clinic   ...      Seed Funding     850,000     NaN\n",
       "\n",
       "[5 rows x 10 columns]"
      ]
     },
     "execution_count": 2,
     "metadata": {},
     "output_type": "execute_result"
    }
   ],
   "source": [
    "fd = pd.read_csv(\"../input/startup_funding.csv\")  # data processing, CSV file I/O (e.g. pd.read_csv)\n",
    "\n",
    "fd.head(5)  #shows the first 5 DATASET"
   ]
  },
  {
   "cell_type": "markdown",
   "metadata": {
    "_uuid": "dcf0e6bdafdc87688608f4a8a3461af6c94fc15d"
   },
   "source": [
    "**2. TO VIEW EACH COLUMN NAME**"
   ]
  },
  {
   "cell_type": "code",
   "execution_count": 3,
   "metadata": {
    "_uuid": "35a26b6cb6274eee7ced82fd22269b7d1b1fb1c3"
   },
   "outputs": [
    {
     "name": "stdout",
     "output_type": "stream",
     "text": [
      "SNo Date StartupName IndustryVertical SubVertical CityLocation InvestorsName InvestmentType AmountInUSD Remarks\n"
     ]
    }
   ],
   "source": [
    "print(*fd.columns)"
   ]
  },
  {
   "cell_type": "markdown",
   "metadata": {
    "_uuid": "81e93b5d7d1b142a136aa57f2a1f1cd4a8f93f98"
   },
   "source": [
    "**2. 1 DELETE A SPECIFIC COLUMN**"
   ]
  },
  {
   "cell_type": "code",
   "execution_count": 4,
   "metadata": {
    "_uuid": "421c643f274730bb2160d91a743a10e9a5cde50f"
   },
   "outputs": [
    {
     "data": {
      "text/html": [
       "<div>\n",
       "<style scoped>\n",
       "    .dataframe tbody tr th:only-of-type {\n",
       "        vertical-align: middle;\n",
       "    }\n",
       "\n",
       "    .dataframe tbody tr th {\n",
       "        vertical-align: top;\n",
       "    }\n",
       "\n",
       "    .dataframe thead th {\n",
       "        text-align: right;\n",
       "    }\n",
       "</style>\n",
       "<table border=\"1\" class=\"dataframe\">\n",
       "  <thead>\n",
       "    <tr style=\"text-align: right;\">\n",
       "      <th></th>\n",
       "      <th>SNo</th>\n",
       "      <th>Date</th>\n",
       "      <th>StartupName</th>\n",
       "      <th>IndustryVertical</th>\n",
       "      <th>SubVertical</th>\n",
       "      <th>CityLocation</th>\n",
       "      <th>InvestorsName</th>\n",
       "      <th>InvestmentType</th>\n",
       "      <th>AmountInUSD</th>\n",
       "    </tr>\n",
       "  </thead>\n",
       "  <tbody>\n",
       "    <tr>\n",
       "      <th>0</th>\n",
       "      <td>0</td>\n",
       "      <td>01/08/2017</td>\n",
       "      <td>TouchKin</td>\n",
       "      <td>Technology</td>\n",
       "      <td>Predictive Care Platform</td>\n",
       "      <td>Bangalore</td>\n",
       "      <td>Kae Capital</td>\n",
       "      <td>Private Equity</td>\n",
       "      <td>1,300,000</td>\n",
       "    </tr>\n",
       "    <tr>\n",
       "      <th>1</th>\n",
       "      <td>1</td>\n",
       "      <td>02/08/2017</td>\n",
       "      <td>Ethinos</td>\n",
       "      <td>Technology</td>\n",
       "      <td>Digital Marketing Agency</td>\n",
       "      <td>Mumbai</td>\n",
       "      <td>Triton Investment Advisors</td>\n",
       "      <td>Private Equity</td>\n",
       "      <td>NaN</td>\n",
       "    </tr>\n",
       "    <tr>\n",
       "      <th>2</th>\n",
       "      <td>2</td>\n",
       "      <td>02/08/2017</td>\n",
       "      <td>Leverage Edu</td>\n",
       "      <td>Consumer Internet</td>\n",
       "      <td>Online platform for Higher Education Services</td>\n",
       "      <td>New Delhi</td>\n",
       "      <td>Kashyap Deorah, Anand Sankeshwar, Deepak Jain,...</td>\n",
       "      <td>Seed Funding</td>\n",
       "      <td>NaN</td>\n",
       "    </tr>\n",
       "    <tr>\n",
       "      <th>3</th>\n",
       "      <td>3</td>\n",
       "      <td>02/08/2017</td>\n",
       "      <td>Zepo</td>\n",
       "      <td>Consumer Internet</td>\n",
       "      <td>DIY Ecommerce platform</td>\n",
       "      <td>Mumbai</td>\n",
       "      <td>Kunal Shah, LetsVenture, Anupam Mittal, Hetal ...</td>\n",
       "      <td>Seed Funding</td>\n",
       "      <td>500,000</td>\n",
       "    </tr>\n",
       "    <tr>\n",
       "      <th>4</th>\n",
       "      <td>4</td>\n",
       "      <td>02/08/2017</td>\n",
       "      <td>Click2Clinic</td>\n",
       "      <td>Consumer Internet</td>\n",
       "      <td>healthcare service aggregator</td>\n",
       "      <td>Hyderabad</td>\n",
       "      <td>Narottam Thudi, Shireesh Palle</td>\n",
       "      <td>Seed Funding</td>\n",
       "      <td>850,000</td>\n",
       "    </tr>\n",
       "  </tbody>\n",
       "</table>\n",
       "</div>"
      ],
      "text/plain": [
       "   SNo        Date     ...      InvestmentType AmountInUSD\n",
       "0    0  01/08/2017     ...      Private Equity   1,300,000\n",
       "1    1  02/08/2017     ...      Private Equity         NaN\n",
       "2    2  02/08/2017     ...        Seed Funding         NaN\n",
       "3    3  02/08/2017     ...        Seed Funding     500,000\n",
       "4    4  02/08/2017     ...        Seed Funding     850,000\n",
       "\n",
       "[5 rows x 9 columns]"
      ]
     },
     "execution_count": 4,
     "metadata": {},
     "output_type": "execute_result"
    }
   ],
   "source": [
    "del fd['Remarks'] #del - command\n",
    "fd.head(5)"
   ]
  },
  {
   "cell_type": "markdown",
   "metadata": {
    "_uuid": "fb6b800e4668332e9b31e128e4959c704b0ef196"
   },
   "source": [
    "**3. TO FIND TOTAL NUMBER OF ROWS**"
   ]
  },
  {
   "cell_type": "code",
   "execution_count": 5,
   "metadata": {
    "_uuid": "bfbee97f3bb0bb6e0a4a0e329782810401db5f38"
   },
   "outputs": [
    {
     "name": "stdout",
     "output_type": "stream",
     "text": [
      "2373 ROWS are present in this DATASET\n"
     ]
    }
   ],
   "source": [
    "leng=len(fd.index)+1  #find length\n",
    "\n",
    "print(leng,\"ROWS are present in this DATASET\")"
   ]
  },
  {
   "cell_type": "markdown",
   "metadata": {
    "_uuid": "b348a711a5a37b8694efdbbbdbc1eecf7b5fa5b4"
   },
   "source": [
    "**4. FETCH UNIQUE VALUES**"
   ]
  },
  {
   "cell_type": "code",
   "execution_count": 6,
   "metadata": {
    "_uuid": "a8b8303d9221326ce1e64d30695f14c4a495a3a8"
   },
   "outputs": [
    {
     "name": "stdout",
     "output_type": "stream",
     "text": [
      "1,300,000 nan 500,000 850,000 1,000,000\n"
     ]
    },
    {
     "data": {
      "text/plain": [
       "numpy.ndarray"
      ]
     },
     "execution_count": 6,
     "metadata": {},
     "output_type": "execute_result"
    }
   ],
   "source": [
    "name = fd['InvestorsName'].unique()   #stores unique values of INVESTORS NAME\n",
    "amount = fd['AmountInUSD'].unique()   #stores unique values of INVESTORS NAME\n",
    "\n",
    "\n",
    "print(*amount[:5])\n",
    "type(amount)"
   ]
  },
  {
   "cell_type": "markdown",
   "metadata": {
    "_uuid": "b7cb32f4f06c89ab111e8b00312941b4f7a59ae6"
   },
   "source": [
    "**4. 1**"
   ]
  },
  {
   "cell_type": "code",
   "execution_count": 7,
   "metadata": {
    "_uuid": "e337671d0b4454a27a9de539e28f60983e4163c1"
   },
   "outputs": [
    {
     "name": "stdout",
     "output_type": "stream",
     "text": [
      "['Bangalore' 'Mumbai' 'New Delhi' 'Hyderabad' 'Ahmedabad']\n"
     ]
    },
    {
     "data": {
      "text/plain": [
       "numpy.ndarray"
      ]
     },
     "execution_count": 7,
     "metadata": {},
     "output_type": "execute_result"
    }
   ],
   "source": [
    "#to find unique names of listed cities\n",
    "\n",
    "uni_city = [] #array declaration\n",
    "uni_city = fd['CityLocation'].unique() #to find unique\n",
    "\n",
    "print(uni_city[:5])\n",
    "type(uni_city)"
   ]
  },
  {
   "cell_type": "markdown",
   "metadata": {
    "_uuid": "32d91756981a7099c451f4ae52d1d6cc21f41a8a"
   },
   "source": [
    "![](http://www.digitalvidya.com/wp-content/uploads/2018/08/data-structures-and-algorithms-in-python-1170x630.jpg)"
   ]
  },
  {
   "cell_type": "markdown",
   "metadata": {
    "_uuid": "8465ef9e093e62f8cb9672ec99dafb50772b4948"
   },
   "source": [
    "**DATASTRUCTURES**"
   ]
  },
  {
   "cell_type": "markdown",
   "metadata": {
    "_uuid": "5a9ef2cb8de5590e8fc44086958a3e83d3ebbd19"
   },
   "source": [
    "*1. LIST*"
   ]
  },
  {
   "cell_type": "code",
   "execution_count": 8,
   "metadata": {
    "_uuid": "47486df0431028179d647378c0bb905e98e3828e"
   },
   "outputs": [
    {
     "name": "stdout",
     "output_type": "stream",
     "text": [
      "['Bangalore', 'Mumbai', 'New Delhi', 'Hyderabad', 'Ahmedabad']\n",
      "73\n"
     ]
    },
    {
     "data": {
      "text/plain": [
       "list"
      ]
     },
     "execution_count": 8,
     "metadata": {},
     "output_type": "execute_result"
    }
   ],
   "source": [
    "uni_city_list=np.array(uni_city).tolist()  #converts np.array to list\n",
    "\n",
    "uni_city_list.append('R.m.d')   #appends RMD\n",
    "\n",
    "print(uni_city_list[:5])\n",
    "print(len(uni_city_list))   #prints len of list\n",
    "\n",
    "type(uni_city_list)"
   ]
  },
  {
   "cell_type": "markdown",
   "metadata": {
    "_uuid": "7ef32d65068d771582fb13fc33bf915a9c308a00"
   },
   "source": [
    "*2. DICTIONARY*"
   ]
  },
  {
   "cell_type": "code",
   "execution_count": 9,
   "metadata": {
    "_uuid": "b42b043d8ff739a86d86f3d43efc2a9a6ab20425"
   },
   "outputs": [
    {
     "name": "stdout",
     "output_type": "stream",
     "text": [
      "Bangalore : 1,300,000\n",
      "Mumbai : nan\n",
      "New Delhi : 500,000\n",
      "Hyderabad : 850,000\n",
      "Ahmedabad : 1,000,000\n",
      "Gurgaon : 2,600,000\n",
      "Noida : 20,000,000\n",
      "Pune : 8,500,000\n",
      "Kolkata : 12,000,000\n",
      "bangalore : 3,000,000\n",
      "Trivandrum : 2,250,000\n",
      "Chennai : 464,000\n",
      "Chandigarh : 18,500,000\n",
      "Jaipur : 540,000\n",
      "Vadodara : 1,700,000\n",
      "Surat : 2,000,000\n",
      "Missourie : 4,000,000\n",
      "Panaji : 10,000,000\n",
      "Gwalior : 600,000\n",
      "Karur : 700,000\n",
      "Udupi : 200,000\n",
      "Kochi : 1,200,000\n",
      "Indore : 35,000,000\n",
      "Singapore : 25,000,000\n",
      "Goa : 15,000,000\n",
      "Agra : 1,250,000\n",
      "Bangalore/ Bangkok : 50,000,000\n",
      "Hubli : 650,000\n",
      "Delhi : 232,000\n",
      "Kerala : 1,500,000\n",
      "Kozhikode : 350,000\n",
      "US : 300,000\n",
      "Coimbatore : 250,000\n",
      "Siliguri : 7,800,000\n",
      "nan : 776,000\n",
      "USA : 5,500,000\n",
      "Lucknow : 12,300,000\n",
      "Kanpur : 100,000\n",
      "SFO / Bangalore : 12,500,000\n",
      "London : 5,200,000\n",
      "Seattle / Bangalore : 2,400,000\n",
      "Pune/Seattle : 4,500,000\n",
      "Pune / Dubai : 215,000\n",
      "Bangalore / SFO : 31,000,000\n",
      "Varanasi : 4,600,000\n",
      "Bhopal : 5,000,000\n",
      "New Delhi / US : 71,000,000\n",
      "Mumbai / UK : 311,000\n",
      "Jodhpur : 21,000,000\n",
      "Hyderabad/USA : 73,700,000\n",
      "Boston : 390,000\n",
      "Bangalore / Palo Alto : 104,500,000\n",
      "Mumbai / NY : 233,000\n",
      "USA/India : 50,000\n",
      "Goa/Hyderabad : 1,400,000\n",
      "Noida / Singapore : 7,700,000\n",
      "Belgaum : 466,000\n",
      "Pune / US : 5,300,000\n",
      "Chennai/ Singapore : 1,400,000,000\n",
      "Pune / Singapore : 30,000,000\n",
      "Bangalore / San Mateo : 6,600,000\n",
      "New York/ India : 580,000\n",
      "US/India : 8,000,000\n",
      "Gurgaon / SFO : 3,500,000\n",
      "Bangalore / USA : 80,000,000\n",
      "New Delhi/ Houston : 7,000,000\n",
      "Nagpur : 3,800,000\n",
      "Mumbai / Global : 8,200,000\n",
      "India / US : 40,000,000\n",
      "Udaipur : 2,700,000\n",
      "New Delhi / California : 6,100,000\n",
      "Dallas / Hyderabad : 3,690,000\n"
     ]
    }
   ],
   "source": [
    "startup={}\n",
    "type(startup)\n",
    "\n",
    "for i in range(0,len(uni_city)):\n",
    "    startup[uni_city[i]]=amount[i];\n",
    "for i,j in startup.items():\n",
    "    print(i,\":\",j)"
   ]
  },
  {
   "cell_type": "markdown",
   "metadata": {
    "_uuid": "59c2b1fe4741f22b6f500b3dca805a8ffee6d2d8"
   },
   "source": [
    "**5. TO DISPLAY DATASET WITH SPECIFIC CONSTRAINTS**"
   ]
  },
  {
   "cell_type": "code",
   "execution_count": 10,
   "metadata": {
    "_uuid": "01800e02964b874ed09c0009251f0e75d1aced45"
   },
   "outputs": [
    {
     "data": {
      "text/html": [
       "<div>\n",
       "<style scoped>\n",
       "    .dataframe tbody tr th:only-of-type {\n",
       "        vertical-align: middle;\n",
       "    }\n",
       "\n",
       "    .dataframe tbody tr th {\n",
       "        vertical-align: top;\n",
       "    }\n",
       "\n",
       "    .dataframe thead th {\n",
       "        text-align: right;\n",
       "    }\n",
       "</style>\n",
       "<table border=\"1\" class=\"dataframe\">\n",
       "  <thead>\n",
       "    <tr style=\"text-align: right;\">\n",
       "      <th></th>\n",
       "      <th>SNo</th>\n",
       "      <th>Date</th>\n",
       "      <th>StartupName</th>\n",
       "      <th>IndustryVertical</th>\n",
       "      <th>SubVertical</th>\n",
       "      <th>CityLocation</th>\n",
       "      <th>InvestorsName</th>\n",
       "      <th>InvestmentType</th>\n",
       "      <th>AmountInUSD</th>\n",
       "    </tr>\n",
       "  </thead>\n",
       "  <tbody>\n",
       "    <tr>\n",
       "      <th>154</th>\n",
       "      <td>154</td>\n",
       "      <td>17/05/2017</td>\n",
       "      <td>Genie</td>\n",
       "      <td>Consumer Internet</td>\n",
       "      <td>hyperlocal delivery and logistics mobile app</td>\n",
       "      <td>Chennai</td>\n",
       "      <td>undisclosed investors</td>\n",
       "      <td>Seed Funding</td>\n",
       "      <td>250,000</td>\n",
       "    </tr>\n",
       "    <tr>\n",
       "      <th>187</th>\n",
       "      <td>187</td>\n",
       "      <td>04/04/2017</td>\n",
       "      <td>WayCool</td>\n",
       "      <td>Food &amp; Beverage</td>\n",
       "      <td>Fresh-Produce Distribution Platform</td>\n",
       "      <td>Chennai</td>\n",
       "      <td>Aspada Investments</td>\n",
       "      <td>Private Equity</td>\n",
       "      <td>2,700,000</td>\n",
       "    </tr>\n",
       "    <tr>\n",
       "      <th>242</th>\n",
       "      <td>242</td>\n",
       "      <td>26/04/2017</td>\n",
       "      <td>Howdy Ventures</td>\n",
       "      <td>Consumer Internet</td>\n",
       "      <td>Public and Private Events creation app</td>\n",
       "      <td>Chennai</td>\n",
       "      <td>S. Xavier Britto</td>\n",
       "      <td>Seed Funding</td>\n",
       "      <td>1,500,000</td>\n",
       "    </tr>\n",
       "    <tr>\n",
       "      <th>257</th>\n",
       "      <td>257</td>\n",
       "      <td>02/03/2017</td>\n",
       "      <td>Karomi</td>\n",
       "      <td>Technology</td>\n",
       "      <td>Packaging Artwork Management software</td>\n",
       "      <td>Chennai</td>\n",
       "      <td>Ideaspring Capital</td>\n",
       "      <td>Seed Funding</td>\n",
       "      <td>500,000</td>\n",
       "    </tr>\n",
       "    <tr>\n",
       "      <th>260</th>\n",
       "      <td>260</td>\n",
       "      <td>02/03/2017</td>\n",
       "      <td>CreditMantri</td>\n",
       "      <td>Consumer Internet</td>\n",
       "      <td>Online Credit score &amp; lending platform</td>\n",
       "      <td>Chennai</td>\n",
       "      <td>Quona Capital</td>\n",
       "      <td>Private Equity</td>\n",
       "      <td>7,600,000</td>\n",
       "    </tr>\n",
       "  </tbody>\n",
       "</table>\n",
       "</div>"
      ],
      "text/plain": [
       "     SNo        Date     ...      InvestmentType AmountInUSD\n",
       "154  154  17/05/2017     ...        Seed Funding     250,000\n",
       "187  187  04/04/2017     ...      Private Equity   2,700,000\n",
       "242  242  26/04/2017     ...        Seed Funding   1,500,000\n",
       "257  257  02/03/2017     ...        Seed Funding     500,000\n",
       "260  260  02/03/2017     ...      Private Equity   7,600,000\n",
       "\n",
       "[5 rows x 9 columns]"
      ]
     },
     "execution_count": 10,
     "metadata": {},
     "output_type": "execute_result"
    }
   ],
   "source": [
    "fd[fd.CityLocation == 'Chennai'].head(5)"
   ]
  },
  {
   "cell_type": "markdown",
   "metadata": {
    "_uuid": "21f87bc8d61c73de04f61cee2ebf107258a1e45b"
   },
   "source": [
    "**6. CONVERT STRING TO FLOAT**"
   ]
  },
  {
   "cell_type": "code",
   "execution_count": 11,
   "metadata": {
    "_uuid": "9fbf9f3d98b1a0dd766db2f8e46245aa3137b306"
   },
   "outputs": [
    {
     "data": {
      "text/html": [
       "<div>\n",
       "<style scoped>\n",
       "    .dataframe tbody tr th:only-of-type {\n",
       "        vertical-align: middle;\n",
       "    }\n",
       "\n",
       "    .dataframe tbody tr th {\n",
       "        vertical-align: top;\n",
       "    }\n",
       "\n",
       "    .dataframe thead th {\n",
       "        text-align: right;\n",
       "    }\n",
       "</style>\n",
       "<table border=\"1\" class=\"dataframe\">\n",
       "  <thead>\n",
       "    <tr style=\"text-align: right;\">\n",
       "      <th></th>\n",
       "      <th>SNo</th>\n",
       "      <th>Date</th>\n",
       "      <th>StartupName</th>\n",
       "      <th>IndustryVertical</th>\n",
       "      <th>SubVertical</th>\n",
       "      <th>CityLocation</th>\n",
       "      <th>InvestorsName</th>\n",
       "      <th>InvestmentType</th>\n",
       "      <th>AmountInUSD</th>\n",
       "    </tr>\n",
       "  </thead>\n",
       "  <tbody>\n",
       "    <tr>\n",
       "      <th>0</th>\n",
       "      <td>0</td>\n",
       "      <td>01/08/2017</td>\n",
       "      <td>TouchKin</td>\n",
       "      <td>Technology</td>\n",
       "      <td>Predictive Care Platform</td>\n",
       "      <td>Bangalore</td>\n",
       "      <td>Kae Capital</td>\n",
       "      <td>Private Equity</td>\n",
       "      <td>1300000.0</td>\n",
       "    </tr>\n",
       "    <tr>\n",
       "      <th>1</th>\n",
       "      <td>1</td>\n",
       "      <td>02/08/2017</td>\n",
       "      <td>Ethinos</td>\n",
       "      <td>Technology</td>\n",
       "      <td>Digital Marketing Agency</td>\n",
       "      <td>Mumbai</td>\n",
       "      <td>Triton Investment Advisors</td>\n",
       "      <td>Private Equity</td>\n",
       "      <td>NaN</td>\n",
       "    </tr>\n",
       "    <tr>\n",
       "      <th>2</th>\n",
       "      <td>2</td>\n",
       "      <td>02/08/2017</td>\n",
       "      <td>Leverage Edu</td>\n",
       "      <td>Consumer Internet</td>\n",
       "      <td>Online platform for Higher Education Services</td>\n",
       "      <td>New Delhi</td>\n",
       "      <td>Kashyap Deorah, Anand Sankeshwar, Deepak Jain,...</td>\n",
       "      <td>Seed Funding</td>\n",
       "      <td>NaN</td>\n",
       "    </tr>\n",
       "    <tr>\n",
       "      <th>3</th>\n",
       "      <td>3</td>\n",
       "      <td>02/08/2017</td>\n",
       "      <td>Zepo</td>\n",
       "      <td>Consumer Internet</td>\n",
       "      <td>DIY Ecommerce platform</td>\n",
       "      <td>Mumbai</td>\n",
       "      <td>Kunal Shah, LetsVenture, Anupam Mittal, Hetal ...</td>\n",
       "      <td>Seed Funding</td>\n",
       "      <td>500000.0</td>\n",
       "    </tr>\n",
       "    <tr>\n",
       "      <th>4</th>\n",
       "      <td>4</td>\n",
       "      <td>02/08/2017</td>\n",
       "      <td>Click2Clinic</td>\n",
       "      <td>Consumer Internet</td>\n",
       "      <td>healthcare service aggregator</td>\n",
       "      <td>Hyderabad</td>\n",
       "      <td>Narottam Thudi, Shireesh Palle</td>\n",
       "      <td>Seed Funding</td>\n",
       "      <td>850000.0</td>\n",
       "    </tr>\n",
       "  </tbody>\n",
       "</table>\n",
       "</div>"
      ],
      "text/plain": [
       "   SNo        Date     ...      InvestmentType AmountInUSD\n",
       "0    0  01/08/2017     ...      Private Equity   1300000.0\n",
       "1    1  02/08/2017     ...      Private Equity         NaN\n",
       "2    2  02/08/2017     ...        Seed Funding         NaN\n",
       "3    3  02/08/2017     ...        Seed Funding    500000.0\n",
       "4    4  02/08/2017     ...        Seed Funding    850000.0\n",
       "\n",
       "[5 rows x 9 columns]"
      ]
     },
     "execution_count": 11,
     "metadata": {},
     "output_type": "execute_result"
    }
   ],
   "source": [
    "#to convert string to float\n",
    "\n",
    "fd[\"AmountInUSD\"] = fd[\"AmountInUSD\"].apply(lambda x: float(str(x).replace(\",\",\"\"))) #expression conversion is done using lambda\n",
    "fd[\"AmountInUSD\"] = pd.to_numeric(fd[\"AmountInUSD\"]) #now those amount are converted to numeric format\n",
    "\n",
    "fd.head(5)\n",
    "\n",
    "\n",
    "\n",
    "#fd[\"Date\"] = fd[\"Date\"].apply(lambda x: float(str(x).replace(\"/\",\"\"))) #expression conversion is done using lambda\n",
    "#fd[\"Date\"] = pd.to_numeric(fd[\"Date\"]) #now those amount are converted to numeric format\n",
    "\n",
    "#fd.head(5)\n"
   ]
  },
  {
   "cell_type": "markdown",
   "metadata": {
    "_uuid": "cef2c89d8ef80e00d7c4b9b7b1b1731eb1807037"
   },
   "source": [
    "**6.1 CONVERSION OF NaN TO 0**"
   ]
  },
  {
   "cell_type": "code",
   "execution_count": 12,
   "metadata": {
    "_uuid": "c95565ff52cc90b8bb5727f8f6a597ea2c166676"
   },
   "outputs": [
    {
     "data": {
      "text/html": [
       "<div>\n",
       "<style scoped>\n",
       "    .dataframe tbody tr th:only-of-type {\n",
       "        vertical-align: middle;\n",
       "    }\n",
       "\n",
       "    .dataframe tbody tr th {\n",
       "        vertical-align: top;\n",
       "    }\n",
       "\n",
       "    .dataframe thead th {\n",
       "        text-align: right;\n",
       "    }\n",
       "</style>\n",
       "<table border=\"1\" class=\"dataframe\">\n",
       "  <thead>\n",
       "    <tr style=\"text-align: right;\">\n",
       "      <th></th>\n",
       "      <th>SNo</th>\n",
       "      <th>Date</th>\n",
       "      <th>StartupName</th>\n",
       "      <th>IndustryVertical</th>\n",
       "      <th>SubVertical</th>\n",
       "      <th>CityLocation</th>\n",
       "      <th>InvestorsName</th>\n",
       "      <th>InvestmentType</th>\n",
       "      <th>AmountInUSD</th>\n",
       "    </tr>\n",
       "  </thead>\n",
       "  <tbody>\n",
       "    <tr>\n",
       "      <th>0</th>\n",
       "      <td>0</td>\n",
       "      <td>01/08/2017</td>\n",
       "      <td>TouchKin</td>\n",
       "      <td>Technology</td>\n",
       "      <td>Predictive Care Platform</td>\n",
       "      <td>Bangalore</td>\n",
       "      <td>Kae Capital</td>\n",
       "      <td>Private Equity</td>\n",
       "      <td>1300000.0</td>\n",
       "    </tr>\n",
       "    <tr>\n",
       "      <th>1</th>\n",
       "      <td>1</td>\n",
       "      <td>02/08/2017</td>\n",
       "      <td>Ethinos</td>\n",
       "      <td>Technology</td>\n",
       "      <td>Digital Marketing Agency</td>\n",
       "      <td>Mumbai</td>\n",
       "      <td>Triton Investment Advisors</td>\n",
       "      <td>Private Equity</td>\n",
       "      <td>0.0</td>\n",
       "    </tr>\n",
       "    <tr>\n",
       "      <th>2</th>\n",
       "      <td>2</td>\n",
       "      <td>02/08/2017</td>\n",
       "      <td>Leverage Edu</td>\n",
       "      <td>Consumer Internet</td>\n",
       "      <td>Online platform for Higher Education Services</td>\n",
       "      <td>New Delhi</td>\n",
       "      <td>Kashyap Deorah, Anand Sankeshwar, Deepak Jain,...</td>\n",
       "      <td>Seed Funding</td>\n",
       "      <td>0.0</td>\n",
       "    </tr>\n",
       "    <tr>\n",
       "      <th>3</th>\n",
       "      <td>3</td>\n",
       "      <td>02/08/2017</td>\n",
       "      <td>Zepo</td>\n",
       "      <td>Consumer Internet</td>\n",
       "      <td>DIY Ecommerce platform</td>\n",
       "      <td>Mumbai</td>\n",
       "      <td>Kunal Shah, LetsVenture, Anupam Mittal, Hetal ...</td>\n",
       "      <td>Seed Funding</td>\n",
       "      <td>500000.0</td>\n",
       "    </tr>\n",
       "    <tr>\n",
       "      <th>4</th>\n",
       "      <td>4</td>\n",
       "      <td>02/08/2017</td>\n",
       "      <td>Click2Clinic</td>\n",
       "      <td>Consumer Internet</td>\n",
       "      <td>healthcare service aggregator</td>\n",
       "      <td>Hyderabad</td>\n",
       "      <td>Narottam Thudi, Shireesh Palle</td>\n",
       "      <td>Seed Funding</td>\n",
       "      <td>850000.0</td>\n",
       "    </tr>\n",
       "  </tbody>\n",
       "</table>\n",
       "</div>"
      ],
      "text/plain": [
       "   SNo        Date     ...      InvestmentType AmountInUSD\n",
       "0    0  01/08/2017     ...      Private Equity   1300000.0\n",
       "1    1  02/08/2017     ...      Private Equity         0.0\n",
       "2    2  02/08/2017     ...        Seed Funding         0.0\n",
       "3    3  02/08/2017     ...        Seed Funding    500000.0\n",
       "4    4  02/08/2017     ...        Seed Funding    850000.0\n",
       "\n",
       "[5 rows x 9 columns]"
      ]
     },
     "execution_count": 12,
     "metadata": {},
     "output_type": "execute_result"
    }
   ],
   "source": [
    "#to convert NaN (Not a NUMBER) to 0\n",
    "\n",
    "fd.fillna(0).head(5)"
   ]
  },
  {
   "cell_type": "code",
   "execution_count": 13,
   "metadata": {
    "_uuid": "9e7c80f1c491ac1491868602e26a6e910192601d"
   },
   "outputs": [
    {
     "name": "stdout",
     "output_type": "stream",
     "text": [
      "Total funding amount 18347386476.0\n"
     ]
    }
   ],
   "source": [
    "#total\n",
    "\n",
    "val = fd['AmountInUSD'].sum() #which sums up all the values in the row \"AmountInUSD\"\n",
    "print(\"Total funding amount\",val) #print total\n",
    "\n"
   ]
  },
  {
   "cell_type": "markdown",
   "metadata": {
    "_uuid": "8aad6b9f669d1732403d475abc19ae20fa714dec"
   },
   "source": [
    "**7. TO CACULATE MAX VALUE AND PRINT THE ROW WHICH HAS THE MAXIMUM VALUE**"
   ]
  },
  {
   "cell_type": "code",
   "execution_count": 14,
   "metadata": {
    "_uuid": "b431c315807592cb745685f3e320b9ea334b66c3"
   },
   "outputs": [
    {
     "name": "stdout",
     "output_type": "stream",
     "text": [
      "maximum amount invested 1400000000.0\n"
     ]
    },
    {
     "data": {
      "text/html": [
       "<div>\n",
       "<style scoped>\n",
       "    .dataframe tbody tr th:only-of-type {\n",
       "        vertical-align: middle;\n",
       "    }\n",
       "\n",
       "    .dataframe tbody tr th {\n",
       "        vertical-align: top;\n",
       "    }\n",
       "\n",
       "    .dataframe thead th {\n",
       "        text-align: right;\n",
       "    }\n",
       "</style>\n",
       "<table border=\"1\" class=\"dataframe\">\n",
       "  <thead>\n",
       "    <tr style=\"text-align: right;\">\n",
       "      <th></th>\n",
       "      <th>SNo</th>\n",
       "      <th>Date</th>\n",
       "      <th>StartupName</th>\n",
       "      <th>IndustryVertical</th>\n",
       "      <th>SubVertical</th>\n",
       "      <th>CityLocation</th>\n",
       "      <th>InvestorsName</th>\n",
       "      <th>InvestmentType</th>\n",
       "      <th>AmountInUSD</th>\n",
       "    </tr>\n",
       "  </thead>\n",
       "  <tbody>\n",
       "    <tr>\n",
       "      <th>158</th>\n",
       "      <td>158</td>\n",
       "      <td>18/05/2017</td>\n",
       "      <td>Paytm</td>\n",
       "      <td>ECommerce</td>\n",
       "      <td>Mobile Wallet &amp; ECommerce platform</td>\n",
       "      <td>Bangalore</td>\n",
       "      <td>SoftBank Group</td>\n",
       "      <td>Private Equity</td>\n",
       "      <td>1.400000e+09</td>\n",
       "    </tr>\n",
       "  </tbody>\n",
       "</table>\n",
       "</div>"
      ],
      "text/plain": [
       "     SNo        Date      ...       InvestmentType   AmountInUSD\n",
       "158  158  18/05/2017      ...       Private Equity  1.400000e+09\n",
       "\n",
       "[1 rows x 9 columns]"
      ]
     },
     "execution_count": 14,
     "metadata": {},
     "output_type": "execute_result"
    }
   ],
   "source": [
    "#to calculate max value and to print the max row\n",
    "\n",
    "max_invest=max(fd['AmountInUSD'])  #find max\n",
    "print(\"maximum amount invested\",max_invest)\n",
    "\n",
    "\n",
    "max_index=fd['AmountInUSD'].idxmax()   #to assign max amount's index value\n",
    "fd.iloc[[max_index]]   #print the row\n",
    "\n",
    "\n"
   ]
  },
  {
   "cell_type": "markdown",
   "metadata": {
    "_uuid": "98983fc8caddcaa7929b6ac645c2e0f136f0cbcd"
   },
   "source": [
    "**7.1 MINIMUM VALUE**"
   ]
  },
  {
   "cell_type": "code",
   "execution_count": 15,
   "metadata": {
    "_uuid": "ea429b13423082335e3162959cac436e6cf96adf"
   },
   "outputs": [
    {
     "name": "stdout",
     "output_type": "stream",
     "text": [
      "minimum amount invested 16000.0\n"
     ]
    },
    {
     "data": {
      "text/html": [
       "<div>\n",
       "<style scoped>\n",
       "    .dataframe tbody tr th:only-of-type {\n",
       "        vertical-align: middle;\n",
       "    }\n",
       "\n",
       "    .dataframe tbody tr th {\n",
       "        vertical-align: top;\n",
       "    }\n",
       "\n",
       "    .dataframe thead th {\n",
       "        text-align: right;\n",
       "    }\n",
       "</style>\n",
       "<table border=\"1\" class=\"dataframe\">\n",
       "  <thead>\n",
       "    <tr style=\"text-align: right;\">\n",
       "      <th></th>\n",
       "      <th>SNo</th>\n",
       "      <th>Date</th>\n",
       "      <th>StartupName</th>\n",
       "      <th>IndustryVertical</th>\n",
       "      <th>SubVertical</th>\n",
       "      <th>CityLocation</th>\n",
       "      <th>InvestorsName</th>\n",
       "      <th>InvestmentType</th>\n",
       "      <th>AmountInUSD</th>\n",
       "    </tr>\n",
       "  </thead>\n",
       "  <tbody>\n",
       "    <tr>\n",
       "      <th>2345</th>\n",
       "      <td>2345</td>\n",
       "      <td>19/01/2015</td>\n",
       "      <td>Hostel Dunia</td>\n",
       "      <td>NaN</td>\n",
       "      <td>NaN</td>\n",
       "      <td>NaN</td>\n",
       "      <td>Hyderabad Angels (at Startup Heroes event)</td>\n",
       "      <td>Seed Funding</td>\n",
       "      <td>16000.0</td>\n",
       "    </tr>\n",
       "  </tbody>\n",
       "</table>\n",
       "</div>"
      ],
      "text/plain": [
       "       SNo        Date     ...     InvestmentType AmountInUSD\n",
       "2345  2345  19/01/2015     ...       Seed Funding     16000.0\n",
       "\n",
       "[1 rows x 9 columns]"
      ]
     },
     "execution_count": 15,
     "metadata": {},
     "output_type": "execute_result"
    }
   ],
   "source": [
    "min_invest=min(fd['AmountInUSD'])  \n",
    "print(\"minimum amount invested\",min_invest)\n",
    "\n",
    "\n",
    "min_index=fd['AmountInUSD'].idxmin()   #to assign max amount's index value\n",
    "fd.iloc[[min_index]]   #print the row\n"
   ]
  },
  {
   "cell_type": "markdown",
   "metadata": {
    "_uuid": "d20c60761221930b228c03823da7273c5f49e025"
   },
   "source": [
    "![](https://www.tertiarycourses.com.sg/media/catalog/product/cache/1/image/512x/040ec09b1e35df139433887a97daa66f/d/a/data-visualization-python.jpg)"
   ]
  },
  {
   "cell_type": "markdown",
   "metadata": {
    "_uuid": "0d4e78db339ef4b51c73f6a64045c15ef64de1e3"
   },
   "source": [
    "**DATA VISUALIZATION**"
   ]
  },
  {
   "cell_type": "code",
   "execution_count": 16,
   "metadata": {
    "_uuid": "98d7fa58d5be37b8176612e144163ae5f2673b2d",
    "scrolled": true
   },
   "outputs": [
    {
     "data": {
      "text/html": [
       "<script type=\"text/javascript\">window.PlotlyConfig = {MathJaxConfig: 'local'};</script><script type=\"text/javascript\">if (window.MathJax) {MathJax.Hub.Config({SVG: {font: \"STIX-Web\"}});}</script><script>requirejs.config({paths: { 'plotly': ['https://cdn.plot.ly/plotly-latest.min']},});if(!window._Plotly) {require(['plotly'],function(plotly) {window._Plotly=plotly;});}</script>"
      ],
      "text/vnd.plotly.v1+html": [
       "<script type=\"text/javascript\">window.PlotlyConfig = {MathJaxConfig: 'local'};</script><script type=\"text/javascript\">if (window.MathJax) {MathJax.Hub.Config({SVG: {font: \"STIX-Web\"}});}</script><script>requirejs.config({paths: { 'plotly': ['https://cdn.plot.ly/plotly-latest.min']},});if(!window._Plotly) {require(['plotly'],function(plotly) {window._Plotly=plotly;});}</script>"
      ]
     },
     "metadata": {},
     "output_type": "display_data"
    }
   ],
   "source": [
    "import matplotlib.pyplot as plt\n",
    "import seaborn as sns\n",
    "import plotly.offline as py\n",
    "py.init_notebook_mode(connected=True)\n",
    "\n",
    "%matplotlib inline\n"
   ]
  },
  {
   "cell_type": "markdown",
   "metadata": {
    "_uuid": "7d2c3ee99fc70af6a63e9b2df91b5ea556847a8d"
   },
   "source": [
    "**SET 1 FOR VALUES CITYNAME.INDEX AND CITYNAME.VALUES**"
   ]
  },
  {
   "cell_type": "markdown",
   "metadata": {
    "_uuid": "610a1d0c8f78b45a49bc48897aa3d9c43563cbd3"
   },
   "source": [
    "**1. BAR GRAPH**"
   ]
  },
  {
   "cell_type": "code",
   "execution_count": 17,
   "metadata": {
    "_uuid": "0c9d5edf4d1dcd168ca7d55b1ee7afef8659a93c"
   },
   "outputs": [
    {
     "data": {
      "image/png": "[encoded data removed]",
      "text/plain": [
       "<Figure size 1080x576 with 1 Axes>"
      ]
     },
     "metadata": {},
     "output_type": "display_data"
    },
    {
     "name": "stdout",
     "output_type": "stream",
     "text": [
      "Number of STARTUPS in Bangalore are 627\n",
      "Number of STARTUPS in Mumbai are 446\n",
      "Number of STARTUPS in New Delhi are 381\n",
      "Number of STARTUPS in Gurgaon are 240\n",
      "Number of STARTUPS in Pune are 84\n",
      "Number of STARTUPS in Noida are 78\n",
      "Number of STARTUPS in Hyderabad are 76\n",
      "Number of STARTUPS in Chennai are 66\n",
      "Number of STARTUPS in Ahmedabad are 35\n",
      "Number of STARTUPS in Jaipur are 25\n"
     ]
    }
   ],
   "source": [
    "cityname = fd['CityLocation'].value_counts().head(10)\n",
    "plt.figure(figsize=(15,8))\n",
    "sns.barplot(cityname.index, cityname.values)\n",
    "plt.xticks(rotation='vertical')\n",
    "plt.xlabel('Cities Name')\n",
    "plt.ylabel('Number of STARTUPS in each cities')\n",
    "\n",
    "plt.show()\n",
    "#fd.loc[fd['CityLocation'] == \"Mumbai\", 'AmountInUSD']\n",
    "\n",
    "#total = fd.loc[fd['CityLocation'] == \"Bangalore\", 'StartupName'].sum()\n",
    "x=0\n",
    "for i in cityname.index:\n",
    "    print(\"Number of STARTUPS in\",i, \"are\",cityname.values[x])\n",
    "    x=x+1"
   ]
  },
  {
   "cell_type": "markdown",
   "metadata": {
    "_uuid": "8785faa6ab27e9d168d6afa37e758531f9c65d75"
   },
   "source": [
    "**2. SCATTER PLOT**"
   ]
  },
  {
   "cell_type": "code",
   "execution_count": 18,
   "metadata": {
    "_uuid": "a954a179c3376e38ad81c3c2577ddf904f1f7c03"
   },
   "outputs": [
    {
     "data": {
      "image/png": "[encoded data removed]",
      "text/plain": [
       "<Figure size 432x288 with 1 Axes>"
      ]
     },
     "metadata": {},
     "output_type": "display_data"
    }
   ],
   "source": [
    "plt.scatter(cityname.index,cityname.values)\n",
    "plt.xticks(rotation='vertical')\n",
    "plt.xlabel('Cities Name')\n",
    "plt.ylabel('Number of STARTUPS in each cities')\n",
    "\n",
    "plt.show()"
   ]
  },
  {
   "cell_type": "markdown",
   "metadata": {
    "_uuid": "ea16cc9fe1b94ff7c88c0e8e23c4c56b5181e314"
   },
   "source": [
    "**3. PIE CHART**"
   ]
  },
  {
   "cell_type": "code",
   "execution_count": 19,
   "metadata": {
    "_uuid": "2dea36c247536e1736897d848fad881e4967ace1"
   },
   "outputs": [
    {
     "data": {
      "image/png": "[encoded data removed]",
      "text/plain": [
       "<Figure size 432x288 with 1 Axes>"
      ]
     },
     "metadata": {},
     "output_type": "display_data"
    }
   ],
   "source": [
    "plt.pie(cityname.values, labels = cityname.index, autopct = \"%.01f\")\n",
    "plt.show()"
   ]
  },
  {
   "cell_type": "markdown",
   "metadata": {
    "_uuid": "3990bb7342e176c7ecd14f030e9f0134c630d38a"
   },
   "source": [
    "**SET 2 FOR VALUES INVESTNAME.INDEX AND INVESTNAME.VALUES**"
   ]
  },
  {
   "cell_type": "markdown",
   "metadata": {
    "_uuid": "f094e9c7dea756a6f95eab3007fa416bffa165cb"
   },
   "source": [
    "**1. BAR GRAPH**"
   ]
  },
  {
   "cell_type": "code",
   "execution_count": 20,
   "metadata": {
    "_uuid": "43f880c4d83216d79291a44d0f36db29273a56da",
    "scrolled": false
   },
   "outputs": [
    {
     "data": {
      "image/png": "[encoded data removed]",
      "text/plain": [
       "<Figure size 1080x576 with 1 Axes>"
      ]
     },
     "metadata": {},
     "output_type": "display_data"
    },
    {
     "name": "stdout",
     "output_type": "stream",
     "text": [
      "Investments made by Undisclosed Investors on 33 startups\n",
      "Investments made by Undisclosed investors on 27 startups\n",
      "Investments made by Indian Angel Network on 24 startups\n",
      "Investments made by Ratan Tata on 24 startups\n",
      "Investments made by Kalaari Capital on 16 startups\n"
     ]
    }
   ],
   "source": [
    "investname = fd['InvestorsName'].value_counts().head(5)\n",
    "plt.figure(figsize=(15,8))\n",
    "sns.barplot(investname.index, investname.values)\n",
    "#plt.xticks(rotation='vertical')\n",
    "plt.xlabel('Investors Name')\n",
    "plt.ylabel('No. of Investments made')\n",
    "\n",
    "plt.show()\n",
    "\n",
    "x=0\n",
    "for i in investname.index:\n",
    "    print(\"Investments made by\",i, \"on\",investname.values[x],\"startups\")\n",
    "    x=x+1"
   ]
  },
  {
   "cell_type": "markdown",
   "metadata": {
    "_uuid": "624e5bf453468ff1f4ab14d38eeca85c8ae0602f"
   },
   "source": [
    "**2. SCATTER PLOT**"
   ]
  },
  {
   "cell_type": "code",
   "execution_count": 21,
   "metadata": {
    "_uuid": "f136aa89be87ece7710d93a193b56139fc62914e"
   },
   "outputs": [
    {
     "data": {
      "image/png": "[encoded data removed]",
      "text/plain": [
       "<Figure size 432x288 with 1 Axes>"
      ]
     },
     "metadata": {},
     "output_type": "display_data"
    }
   ],
   "source": [
    "plt.scatter(investname.index,investname.values)\n",
    "plt.xticks(rotation='vertical')\n",
    "plt.xlabel('Investors Name')\n",
    "plt.ylabel('No. of Investments made')\n",
    "\n",
    "plt.show()"
   ]
  },
  {
   "cell_type": "markdown",
   "metadata": {
    "_uuid": "6a8727b19110e78285ffe60b3be8dd39b1d46f35"
   },
   "source": [
    "**3. PIE CHART**"
   ]
  },
  {
   "cell_type": "code",
   "execution_count": 22,
   "metadata": {
    "_uuid": "a9ee2f7e17c8ac7e859d91cd5c3401dac924fdf2"
   },
   "outputs": [
    {
     "data": {
      "image/png": "[encoded data removed]",
      "text/plain": [
       "<Figure size 432x288 with 1 Axes>"
      ]
     },
     "metadata": {},
     "output_type": "display_data"
    }
   ],
   "source": [
    "plt.pie(cityname.values, labels = cityname.index, autopct = \"%.01f\")\n",
    "plt.show()"
   ]
  }
 ],
 "metadata": {
  "kernelspec": {
   "display_name": "Python 3",
   "language": "python",
   "name": "python3"
  },
  "language_info": {
   "codemirror_mode": {
    "name": "ipython",
    "version": 3
   },
   "file_extension": ".py",
   "mimetype": "text/x-python",
   "name": "python",
   "nbconvert_exporter": "python",
   "pygments_lexer": "ipython3",
   "version": "3.6.6"
  }
 },
 "nbformat": 4,
 "nbformat_minor": 1
}
